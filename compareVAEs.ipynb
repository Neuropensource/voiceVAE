{
 "cells": [
  {
   "attachments": {},
   "cell_type": "markdown",
   "metadata": {},
   "source": [
    "#### On teste différentes architectures de VAE. On prend des petites architectures  pour commencer, que l'on peut apprendre sur moins de données, et on augmentera la taille ensuite."
   ]
  },
  {
   "cell_type": "code",
   "execution_count": 1,
   "metadata": {},
   "outputs": [],
   "source": [
    "import torch\n",
    "import torch.nn as nn \n",
    "from torch.utils.data import Dataset, DataLoader \n",
    "import os \n",
    "import numpy as np"
   ]
  },
  {
   "cell_type": "code",
   "execution_count": 16,
   "metadata": {},
   "outputs": [],
   "source": [
    "test_wav = np.load(\"TrainValTest/testSet.npy\")\n"
   ]
  },
  {
   "attachments": {},
   "cell_type": "markdown",
   "metadata": {},
   "source": [
    "## A. Première comparaison : VAE1D avec VAE2D"
   ]
  },
  {
   "cell_type": "code",
   "execution_count": 36,
   "metadata": {},
   "outputs": [
    {
     "data": {
      "text/plain": [
       "<module 'models.simpleAE' from '/home/hippo/Documents/voiceVAE/models/simpleAE.py'>"
      ]
     },
     "execution_count": 36,
     "metadata": {},
     "output_type": "execute_result"
    }
   ],
   "source": [
    "from downloader import SpectroDataset\n",
    "from downloader import SpectroDataset4D\n",
    "import models.simpleAE as AE\n",
    "import models.vanillaVAE as VAE\n",
    "import importlib as implib\n",
    "\n",
    "implib.reload(AE)"
   ]
  },
  {
   "cell_type": "code",
   "execution_count": 37,
   "metadata": {},
   "outputs": [],
   "source": [
    "validation_path = test_wav\n",
    "torch.manual_seed(123)\n",
    "spectros1 = SpectroDataset(validation_path)\n",
    "valid_loader1 = DataLoader(spectros1,batch_size=16,shuffle=False)\n",
    "spectros2 = SpectroDataset4D(validation_path)\n",
    "valid_loader2 = DataLoader(spectros2,batch_size=16,shuffle=False)"
   ]
  },
  {
   "attachments": {},
   "cell_type": "markdown",
   "metadata": {},
   "source": [
    "#### les modèles testés doivent avoir été entrainés auparavant pour récupération des poids"
   ]
  },
  {
   "attachments": {},
   "cell_type": "markdown",
   "metadata": {},
   "source": [
    "### Modèle 1 : AE1D"
   ]
  },
  {
   "cell_type": "code",
   "execution_count": 38,
   "metadata": {},
   "outputs": [
    {
     "data": {
      "text/plain": [
       "<All keys matched successfully>"
      ]
     },
     "execution_count": 38,
     "metadata": {},
     "output_type": "execute_result"
    }
   ],
   "source": [
    "model1 = AE.AE1D(32)\n",
    "state_dic = torch.load(\"modelsParam/AE1D/ep5AE1D.pth\")\n",
    "model1.load_state_dict(state_dic)"
   ]
  },
  {
   "attachments": {},
   "cell_type": "markdown",
   "metadata": {},
   "source": [
    "### Modèle 2 : AE2D"
   ]
  },
  {
   "cell_type": "code",
   "execution_count": 39,
   "metadata": {},
   "outputs": [],
   "source": [
    "model2= AE.AE2D(32)\n",
    "#state_dic = torch.load(\"modelsParam/AE2D/ep5AE2D.pth\")\n",
    "#model2.load_state_dict(state_dic)"
   ]
  },
  {
   "attachments": {},
   "cell_type": "markdown",
   "metadata": {},
   "source": [
    "# verification comparabilité des modèles "
   ]
  },
  {
   "attachments": {},
   "cell_type": "markdown",
   "metadata": {},
   "source": [
    "#### même nombre de paramètres"
   ]
  },
  {
   "cell_type": "code",
   "execution_count": 29,
   "metadata": {},
   "outputs": [],
   "source": [
    "#nombre de paramètres du modèle\n",
    "def count_parameters(model):\n",
    "    return sum(p.numel() for p in model.parameters() if p.requires_grad)"
   ]
  },
  {
   "cell_type": "code",
   "execution_count": 40,
   "metadata": {},
   "outputs": [
    {
     "name": "stdout",
     "output_type": "stream",
     "text": [
      "41845\n",
      "596384\n"
     ]
    }
   ],
   "source": [
    "print(count_parameters(model1))\n",
    "print(count_parameters(model2))"
   ]
  },
  {
   "attachments": {},
   "cell_type": "markdown",
   "metadata": {},
   "source": [
    "#### Entrainement similaire (même nb d'epochs, batch, lr, nb de données, etc...)"
   ]
  },
  {
   "attachments": {},
   "cell_type": "markdown",
   "metadata": {},
   "source": [
    "## 1. Visualisation des reconstructions et comparaisons 2 à 2 de modèles "
   ]
  },
  {
   "cell_type": "code",
   "execution_count": 41,
   "metadata": {},
   "outputs": [],
   "source": [
    "batch1 = next(iter(valid_loader1))\n",
    "batch2 = next(iter(valid_loader2))\n",
    "recon1 = model1(batch1)\n",
    "recon2 = model2(batch2)"
   ]
  },
  {
   "cell_type": "code",
   "execution_count": null,
   "metadata": {},
   "outputs": [],
   "source": [
    "import matplotlib.pyplot as plt\n",
    "\n",
    "#affichage des reocnstruction et des spectros originaux \n",
    "plt.rcParams['figure.figsize'] = [100, 50]\n",
    "for i in range(2):\n",
    "    print('SPECTRO n°',i,' :')\n",
    "    print('Spectro original :')\n",
    "    plt.imshow(batch1[i].detach().numpy())\n",
    "    plt.show()\n",
    "    print('Reconstruction 1 :')\n",
    "    plt.imshow(recon1[i].detach().numpy())\n",
    "    plt.show()\n",
    "    print('Reconstruction 2 :')\n",
    "    plt.imshow(np.transpose(recon2[i][0].detach().numpy()))\n",
    "    plt.show()\n"
   ]
  },
  {
   "attachments": {},
   "cell_type": "markdown",
   "metadata": {},
   "source": [
    "## 2. Etude des espaces latents construits"
   ]
  }
 ],
 "metadata": {
  "kernelspec": {
   "display_name": "base",
   "language": "python",
   "name": "python3"
  },
  "language_info": {
   "codemirror_mode": {
    "name": "ipython",
    "version": 3
   },
   "file_extension": ".py",
   "mimetype": "text/x-python",
   "name": "python",
   "nbconvert_exporter": "python",
   "pygments_lexer": "ipython3",
   "version": "3.9.12"
  },
  "orig_nbformat": 4
 },
 "nbformat": 4,
 "nbformat_minor": 2
}
