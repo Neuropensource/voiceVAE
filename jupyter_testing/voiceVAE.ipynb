{
 "cells": [
  {
   "attachments": {},
   "cell_type": "markdown",
   "metadata": {},
   "source": [
    "Le but est de créé ici de nouveaux VAE qui soient conditionnés sur la voix, de cette manière on aura un espace de representation beaucoup plus spécifique. \n",
    "Plusieurs manière de faire:\n"
   ]
  },
  {
   "cell_type": "code",
   "execution_count": null,
   "metadata": {},
   "outputs": [],
   "source": []
  }
 ],
 "metadata": {
  "language_info": {
   "name": "python"
  },
  "orig_nbformat": 4
 },
 "nbformat": 4,
 "nbformat_minor": 2
}
