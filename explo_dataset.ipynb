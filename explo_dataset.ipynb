{
 "cells": [
  {
   "attachments": {},
   "cell_type": "markdown",
   "metadata": {},
   "source": [
    "### 1. Visualisons les spectrogrammes d'une même phrase données par différents locuteurs "
   ]
  },
  {
   "cell_type": "code",
   "execution_count": 1,
   "metadata": {},
   "outputs": [],
   "source": [
    "import torch\n",
    "import torch.nn as nn \n",
    "from torch.utils.data import Dataset, DataLoader \n",
    "import os \n",
    "import numpy as np"
   ]
  },
  {
   "cell_type": "code",
   "execution_count": 2,
   "metadata": {},
   "outputs": [],
   "source": [
    "folder_path = \"../Data/charly/spectrograms_win800_fra200_rFalse_nfft800_nmelsNone_amptodbTrue/\"\n",
    "all_wav = []\n",
    "folders_locuteur = os.listdir(folder_path)\n",
    "\n"
   ]
  },
  {
   "cell_type": "code",
   "execution_count": 23,
   "metadata": {},
   "outputs": [],
   "source": [
    "loc_files23 = os.listdir(folder_path + folders_locuteur[23])\n",
    "loc_files24 = os.listdir(folder_path + folders_locuteur[24])\n"
   ]
  },
  {
   "cell_type": "code",
   "execution_count": null,
   "metadata": {},
   "outputs": [],
   "source": [
    "#on liste les fichiers communes aux deux locuteurs\n",
    "commun_files = []\n",
    "for file in loc_files23:\n",
    "    if file in loc_files24:\n",
    "        commun_files.append(file)\n",
    "\n",
    "print(len(commun_files))\n",
    "#ne fonctionne pas "
   ]
  },
  {
   "cell_type": "code",
   "execution_count": 30,
   "metadata": {},
   "outputs": [],
   "source": [
    "# on ecrit le nom de tous les fichier dans un fichier txt\n",
    "with open(\"all_files24.txt\", \"w\") as f:\n",
    "    for file in loc_files24:\n",
    "        f.write(file + \"\\n\")"
   ]
  },
  {
   "cell_type": "code",
   "execution_count": 24,
   "metadata": {},
   "outputs": [
    {
     "name": "stdout",
     "output_type": "stream",
     "text": [
      "common_voice_en_22328947_1.npy\n",
      "common_voice_en_20928836_23.npy\n"
     ]
    }
   ],
   "source": [
    "\n",
    "print(loc_files23)\n",
    "print(loc_files24)"
   ]
  },
  {
   "cell_type": "code",
   "execution_count": 33,
   "metadata": {},
   "outputs": [],
   "source": [
    "folder = '9d91497cb25399ad6cf6a4d88548fa84ee3c3687363015eb7b12d269cf363dec73496b009c86266b8b7dda93ff257139bab1ddf599719f46ce5cee865a6d80c1'\n",
    "loc_files = os.listdir(folder_path + folder)"
   ]
  },
  {
   "cell_type": "code",
   "execution_count": 32,
   "metadata": {},
   "outputs": [
    {
     "name": "stdout",
     "output_type": "stream",
     "text": [
      "1200\n"
     ]
    }
   ],
   "source": [
    "print(len(loc_files))"
   ]
  },
  {
   "cell_type": "code",
   "execution_count": 8,
   "metadata": {},
   "outputs": [],
   "source": [
    "#on veut trouver des fichiers avec des fichiers fr\n",
    "def find_fr_files():\n",
    "    for folder in folders_locuteur:\n"
   ]
  },
  {
   "cell_type": "code",
   "execution_count": null,
   "metadata": {},
   "outputs": [],
   "source": []
  },
  {
   "cell_type": "code",
   "execution_count": null,
   "metadata": {},
   "outputs": [],
   "source": [
    "for folder in folders_locuteur:\n",
    "    wav_files = os.listdir(folder_path + folder)\n",
    "    for wav in wav_files:\n",
    "        all_wav.append(folder_path + folder + \"/\" + wav)\n",
    "np.random.shuffle(all_wav)\n",
    "print(type(all_wav))"
   ]
  }
 ],
 "metadata": {
  "kernelspec": {
   "display_name": "base",
   "language": "python",
   "name": "python3"
  },
  "language_info": {
   "codemirror_mode": {
    "name": "ipython",
    "version": 3
   },
   "file_extension": ".py",
   "mimetype": "text/x-python",
   "name": "python",
   "nbconvert_exporter": "python",
   "pygments_lexer": "ipython3",
   "version": "3.9.12"
  },
  "orig_nbformat": 4
 },
 "nbformat": 4,
 "nbformat_minor": 2
}
